{
 "cells": [
  {
   "cell_type": "code",
   "execution_count": 1,
   "id": "8e06e749",
   "metadata": {},
   "outputs": [],
   "source": [
    "import numpy as np\n",
    "import pandas as pd"
   ]
  },
  {
   "cell_type": "code",
   "execution_count": 2,
   "id": "b705bb7f",
   "metadata": {},
   "outputs": [],
   "source": [
    "df = pd.read_csv('ICRISAT_District_Level_Data.csv')\n",
    "#df.info()"
   ]
  },
  {
   "cell_type": "code",
   "execution_count": 3,
   "id": "d73d3c08",
   "metadata": {},
   "outputs": [],
   "source": [
    "crop = []\n",
    "dist_code = []\n",
    "year = []\n",
    "state_code = []\n",
    "state_name = []\n",
    "dist_name = []\n",
    "area = []\n",
    "production = []\n",
    "yields = []\n",
    "cols_to_rows = ['RICE', 'WHEAT', 'KHARIF SORGHUM', 'RABI SORGHUM', 'SORGHUM', 'PEARL MILLET', 'MAIZE', 'FINGER MILLET', \n",
    "                'BARLEY', 'CHICKPEA', 'PIGEONPEA', 'MINOR PULSES', 'GROUNDNUT', 'SESAMUM', 'RAPESEED AND MUSTARD', \n",
    "                'SAFFLOWER', 'CASTOR', 'LINSEED', 'SUNFLOWER', 'SOYABEAN', 'OILSEEDS', 'SUGARCANE', 'COTTON']\n",
    "\n",
    "extra_cols = ['FRUITS', 'VEGETABLES', 'FRUITS AND VEGETABLES', 'POTATOES', 'ONION', 'FODDER']"
   ]
  },
  {
   "cell_type": "code",
   "execution_count": 4,
   "id": "d4ce6817",
   "metadata": {},
   "outputs": [],
   "source": [
    "for i in range(len(cols_to_rows)):\n",
    "    for j in range(len(df)):\n",
    "        crop.append(cols_to_rows[i])\n",
    "        dist_code.append(df['Dist Code'][j])\n",
    "        year.append(df['Year'][j])\n",
    "        state_code.append(df['State Code'][j])\n",
    "        state_name.append(df['State Name'][j])\n",
    "        dist_name.append(df['Dist Name'][j])\n",
    "        area.append(df[cols_to_rows[i]+' AREA (1000 ha)'][j])\n",
    "        production.append(df[cols_to_rows[i]+' PRODUCTION (1000 tons)'][j])\n",
    "        yields.append(df[cols_to_rows[i]+' YIELD (Kg per ha)'][j])\n",
    "        \n",
    "for i in range(len(extra_cols)):\n",
    "    for j in range(len(df)):\n",
    "        crop.append(extra_cols[i])\n",
    "        dist_code.append(df['Dist Code'][j])\n",
    "        year.append(df['Year'][j])\n",
    "        state_code.append(df['State Code'][j])\n",
    "        state_name.append(df['State Name'][j])\n",
    "        dist_name.append(df['Dist Name'][j])\n",
    "        area.append(df[extra_cols[i]+' AREA (1000 ha)'][j])\n",
    "        production.append('')\n",
    "        yields.append('')"
   ]
  },
  {
   "cell_type": "code",
   "execution_count": 5,
   "id": "481fb1b0",
   "metadata": {},
   "outputs": [],
   "source": [
    "df2 = pd.DataFrame({'Plant':crop, 'Dist Code':dist_code, 'Year':year, 'State Code':state_code, 'State Name':state_name, \n",
    "                    'Dist Name':dist_name, 'Area (1000 ha)':area, 'Production (1000 tons)':production, 'Yield (Kg per ha)':yields})"
   ]
  },
  {
   "cell_type": "code",
   "execution_count": 6,
   "id": "38ce242c",
   "metadata": {},
   "outputs": [],
   "source": [
    "crop_production  = ['RICE', 'WHEAT']\n",
    "\n",
    "coarse_grains  = ['KHARIF SORGHUM', 'RABI SORGHUM', 'SORGHUM', 'PEARL MILLET', 'MAIZE', 'FINGER MILLET']\n",
    "\n",
    "pulses  = ['CHICKPEA', 'PIGEONPEA', 'MINOR PULSES']\n",
    "\n",
    "oilseeds   = ['GROUNDNUT', 'SESAMUM', 'RAPESEED AND MUSTARD', 'SAFFLOWER', 'CASTOR', 'LINSEED', 'SUNFLOWER', 'SOYABEAN', 'OILSEEDS']\n",
    "\n",
    "other_crops = ['SUGARCANE', 'COTTON','FRUITS', 'VEGETABLES', 'FRUITS AND VEGETABLES', 'POTATOES', 'ONION', 'FODDER']"
   ]
  },
  {
   "cell_type": "code",
   "execution_count": 8,
   "id": "bc366c69",
   "metadata": {},
   "outputs": [],
   "source": [
    "category = []\n",
    "for i in range(len(df2)):\n",
    "    if df2['Plant'][i] in crop_production:\n",
    "        category.append('crop production')\n",
    "    elif df2['Plant'][i] in coarse_grains:\n",
    "        category.append('coarse grains')\n",
    "    elif df2['Plant'][i] in pulses:\n",
    "        category.append('pulses')\n",
    "    elif df2['Plant'][i] in oilseeds:\n",
    "        category.append('oilseeds')\n",
    "    else:\n",
    "        category.append('other crops')\n"
   ]
  },
  {
   "cell_type": "code",
   "execution_count": 11,
   "id": "ec22d1da",
   "metadata": {},
   "outputs": [],
   "source": [
    "df2['category'] = category"
   ]
  },
  {
   "cell_type": "code",
   "execution_count": 12,
   "id": "8148ac75",
   "metadata": {},
   "outputs": [
    {
     "data": {
      "text/html": [
       "<div>\n",
       "<style scoped>\n",
       "    .dataframe tbody tr th:only-of-type {\n",
       "        vertical-align: middle;\n",
       "    }\n",
       "\n",
       "    .dataframe tbody tr th {\n",
       "        vertical-align: top;\n",
       "    }\n",
       "\n",
       "    .dataframe thead th {\n",
       "        text-align: right;\n",
       "    }\n",
       "</style>\n",
       "<table border=\"1\" class=\"dataframe\">\n",
       "  <thead>\n",
       "    <tr style=\"text-align: right;\">\n",
       "      <th></th>\n",
       "      <th>Plant</th>\n",
       "      <th>Dist Code</th>\n",
       "      <th>Year</th>\n",
       "      <th>State Code</th>\n",
       "      <th>State Name</th>\n",
       "      <th>Dist Name</th>\n",
       "      <th>Area (1000 ha)</th>\n",
       "      <th>Production (1000 tons)</th>\n",
       "      <th>Yield (Kg per ha)</th>\n",
       "      <th>category</th>\n",
       "    </tr>\n",
       "  </thead>\n",
       "  <tbody>\n",
       "    <tr>\n",
       "      <th>468229</th>\n",
       "      <td>FODDER</td>\n",
       "      <td>917</td>\n",
       "      <td>2013</td>\n",
       "      <td>15</td>\n",
       "      <td>Jharkhand</td>\n",
       "      <td>Singhbhum</td>\n",
       "      <td>0.0</td>\n",
       "      <td></td>\n",
       "      <td></td>\n",
       "      <td>other crops</td>\n",
       "    </tr>\n",
       "    <tr>\n",
       "      <th>468230</th>\n",
       "      <td>FODDER</td>\n",
       "      <td>917</td>\n",
       "      <td>2014</td>\n",
       "      <td>15</td>\n",
       "      <td>Jharkhand</td>\n",
       "      <td>Singhbhum</td>\n",
       "      <td>0.0</td>\n",
       "      <td></td>\n",
       "      <td></td>\n",
       "      <td>other crops</td>\n",
       "    </tr>\n",
       "    <tr>\n",
       "      <th>468231</th>\n",
       "      <td>FODDER</td>\n",
       "      <td>917</td>\n",
       "      <td>2015</td>\n",
       "      <td>15</td>\n",
       "      <td>Jharkhand</td>\n",
       "      <td>Singhbhum</td>\n",
       "      <td>0.0</td>\n",
       "      <td></td>\n",
       "      <td></td>\n",
       "      <td>other crops</td>\n",
       "    </tr>\n",
       "    <tr>\n",
       "      <th>468232</th>\n",
       "      <td>FODDER</td>\n",
       "      <td>917</td>\n",
       "      <td>2016</td>\n",
       "      <td>15</td>\n",
       "      <td>Jharkhand</td>\n",
       "      <td>Singhbhum</td>\n",
       "      <td>0.0</td>\n",
       "      <td></td>\n",
       "      <td></td>\n",
       "      <td>other crops</td>\n",
       "    </tr>\n",
       "    <tr>\n",
       "      <th>468233</th>\n",
       "      <td>FODDER</td>\n",
       "      <td>917</td>\n",
       "      <td>2017</td>\n",
       "      <td>15</td>\n",
       "      <td>Jharkhand</td>\n",
       "      <td>Singhbhum</td>\n",
       "      <td>0.0</td>\n",
       "      <td></td>\n",
       "      <td></td>\n",
       "      <td>other crops</td>\n",
       "    </tr>\n",
       "  </tbody>\n",
       "</table>\n",
       "</div>"
      ],
      "text/plain": [
       "         Plant  Dist Code  Year  State Code State Name  Dist Name  \\\n",
       "468229  FODDER        917  2013          15  Jharkhand  Singhbhum   \n",
       "468230  FODDER        917  2014          15  Jharkhand  Singhbhum   \n",
       "468231  FODDER        917  2015          15  Jharkhand  Singhbhum   \n",
       "468232  FODDER        917  2016          15  Jharkhand  Singhbhum   \n",
       "468233  FODDER        917  2017          15  Jharkhand  Singhbhum   \n",
       "\n",
       "        Area (1000 ha) Production (1000 tons) Yield (Kg per ha)     category  \n",
       "468229             0.0                                           other crops  \n",
       "468230             0.0                                           other crops  \n",
       "468231             0.0                                           other crops  \n",
       "468232             0.0                                           other crops  \n",
       "468233             0.0                                           other crops  "
      ]
     },
     "execution_count": 12,
     "metadata": {},
     "output_type": "execute_result"
    }
   ],
   "source": [
    "df2.tail()"
   ]
  },
  {
   "cell_type": "code",
   "execution_count": 13,
   "id": "297b0c60",
   "metadata": {},
   "outputs": [],
   "source": [
    "df2.to_csv('ICRISAT_data.csv', index = False)"
   ]
  },
  {
   "cell_type": "code",
   "execution_count": null,
   "id": "fda8377c",
   "metadata": {},
   "outputs": [],
   "source": []
  }
 ],
 "metadata": {
  "kernelspec": {
   "display_name": "Python 3 (ipykernel)",
   "language": "python",
   "name": "python3"
  },
  "language_info": {
   "codemirror_mode": {
    "name": "ipython",
    "version": 3
   },
   "file_extension": ".py",
   "mimetype": "text/x-python",
   "name": "python",
   "nbconvert_exporter": "python",
   "pygments_lexer": "ipython3",
   "version": "3.11.5"
  }
 },
 "nbformat": 4,
 "nbformat_minor": 5
}
